{
 "cells": [
  {
   "cell_type": "code",
   "execution_count": 1,
   "metadata": {
    "_cell_guid": "b1076dfc-b9ad-4769-8c92-a6c4dae69d19",
    "_uuid": "8f2839f25d086af736a60e9eeb907d3b93b6e0e5"
   },
   "outputs": [
    {
     "name": "stdout",
     "output_type": "stream",
     "text": [
      "/kaggle/input/us-border-crossing-data/Border_Crossing_Entry_Data.csv\n",
      "/kaggle/input/border-crossing-entry-data/Border_Crossing_Entry_Data.csv\n"
     ]
    }
   ],
   "source": [
    "# This Python 3 environment comes with many helpful analytics libraries installed\n",
    "# It is defined by the kaggle/python docker image: https://github.com/kaggle/docker-python\n",
    "# For example, here's several helpful packages to load in \n",
    "\n",
    "import numpy as np # linear algebra\n",
    "import pandas as pd # data processing, CSV file I/O (e.g. pd.read_csv)\n",
    "\n",
    "# Input data files are available in the \"../input/\" directory.\n",
    "# For example, running this (by clicking run or pressing Shift+Enter) will list all files under the input directory\n",
    "\n",
    "import os\n",
    "for dirname, _, filenames in os.walk('/kaggle/input'):\n",
    "    for filename in filenames:\n",
    "        print(os.path.join(dirname, filename))\n",
    "import matplotlib.pyplot as plt\n",
    "import seaborn as sns\n",
    "from datetime import date\n",
    "from datetime import time\n",
    "from datetime import datetime\n",
    "\n",
    "# Any results you write to the current directory are saved as output."
   ]
  },
  {
   "cell_type": "code",
   "execution_count": 2,
   "metadata": {
    "_cell_guid": "79c7e3d0-c299-4dcb-8224-4455121ee9b0",
    "_uuid": "d629ff2d2480ee46fbb7e2d37f6b5fab8052498a"
   },
   "outputs": [
    {
     "data": {
      "text/html": [
       "<div>\n",
       "<style scoped>\n",
       "    .dataframe tbody tr th:only-of-type {\n",
       "        vertical-align: middle;\n",
       "    }\n",
       "\n",
       "    .dataframe tbody tr th {\n",
       "        vertical-align: top;\n",
       "    }\n",
       "\n",
       "    .dataframe thead th {\n",
       "        text-align: right;\n",
       "    }\n",
       "</style>\n",
       "<table border=\"1\" class=\"dataframe\">\n",
       "  <thead>\n",
       "    <tr style=\"text-align: right;\">\n",
       "      <th></th>\n",
       "      <th>Port Name</th>\n",
       "      <th>State</th>\n",
       "      <th>Port Code</th>\n",
       "      <th>Border</th>\n",
       "      <th>Date</th>\n",
       "      <th>Measure</th>\n",
       "      <th>Value</th>\n",
       "    </tr>\n",
       "  </thead>\n",
       "  <tbody>\n",
       "    <tr>\n",
       "      <th>0</th>\n",
       "      <td>Alcan</td>\n",
       "      <td>AK</td>\n",
       "      <td>3104</td>\n",
       "      <td>US-Canada Border</td>\n",
       "      <td>2/1/2020 00:00</td>\n",
       "      <td>Personal Vehicle Passengers</td>\n",
       "      <td>1414</td>\n",
       "    </tr>\n",
       "    <tr>\n",
       "      <th>1</th>\n",
       "      <td>Alcan</td>\n",
       "      <td>AK</td>\n",
       "      <td>3104</td>\n",
       "      <td>US-Canada Border</td>\n",
       "      <td>2/1/2020 00:00</td>\n",
       "      <td>Personal Vehicles</td>\n",
       "      <td>763</td>\n",
       "    </tr>\n",
       "    <tr>\n",
       "      <th>2</th>\n",
       "      <td>Alcan</td>\n",
       "      <td>AK</td>\n",
       "      <td>3104</td>\n",
       "      <td>US-Canada Border</td>\n",
       "      <td>2/1/2020 00:00</td>\n",
       "      <td>Truck Containers Empty</td>\n",
       "      <td>412</td>\n",
       "    </tr>\n",
       "    <tr>\n",
       "      <th>3</th>\n",
       "      <td>Alcan</td>\n",
       "      <td>AK</td>\n",
       "      <td>3104</td>\n",
       "      <td>US-Canada Border</td>\n",
       "      <td>2/1/2020 00:00</td>\n",
       "      <td>Truck Containers Full</td>\n",
       "      <td>122</td>\n",
       "    </tr>\n",
       "    <tr>\n",
       "      <th>4</th>\n",
       "      <td>Alcan</td>\n",
       "      <td>AK</td>\n",
       "      <td>3104</td>\n",
       "      <td>US-Canada Border</td>\n",
       "      <td>2/1/2020 00:00</td>\n",
       "      <td>Trucks</td>\n",
       "      <td>545</td>\n",
       "    </tr>\n",
       "  </tbody>\n",
       "</table>\n",
       "</div>"
      ],
      "text/plain": [
       "  Port Name State  Port Code            Border            Date  \\\n",
       "0     Alcan    AK       3104  US-Canada Border  2/1/2020 00:00   \n",
       "1     Alcan    AK       3104  US-Canada Border  2/1/2020 00:00   \n",
       "2     Alcan    AK       3104  US-Canada Border  2/1/2020 00:00   \n",
       "3     Alcan    AK       3104  US-Canada Border  2/1/2020 00:00   \n",
       "4     Alcan    AK       3104  US-Canada Border  2/1/2020 00:00   \n",
       "\n",
       "                       Measure  Value  \n",
       "0  Personal Vehicle Passengers   1414  \n",
       "1            Personal Vehicles    763  \n",
       "2       Truck Containers Empty    412  \n",
       "3        Truck Containers Full    122  \n",
       "4                       Trucks    545  "
      ]
     },
     "execution_count": 2,
     "metadata": {},
     "output_type": "execute_result"
    }
   ],
   "source": [
    "df = pd.read_csv(\"../input/us-border-crossing-data/Border_Crossing_Entry_Data.csv\")\n",
    "df.head()"
   ]
  },
  {
   "cell_type": "code",
   "execution_count": 3,
   "metadata": {},
   "outputs": [
    {
     "data": {
      "text/plain": [
       "355511"
      ]
     },
     "execution_count": 3,
     "metadata": {},
     "output_type": "execute_result"
    }
   ],
   "source": [
    "len(df)"
   ]
  },
  {
   "cell_type": "code",
   "execution_count": 4,
   "metadata": {},
   "outputs": [
    {
     "data": {
      "text/plain": [
       "Port Name    0\n",
       "State        0\n",
       "Port Code    0\n",
       "Border       0\n",
       "Date         0\n",
       "Measure      0\n",
       "Value        0\n",
       "dtype: int64"
      ]
     },
     "execution_count": 4,
     "metadata": {},
     "output_type": "execute_result"
    }
   ],
   "source": [
    "df.isnull().sum()"
   ]
  },
  {
   "cell_type": "code",
   "execution_count": 5,
   "metadata": {},
   "outputs": [
    {
     "name": "stdout",
     "output_type": "stream",
     "text": [
      "<class 'pandas.core.frame.DataFrame'>\n",
      "RangeIndex: 355511 entries, 0 to 355510\n",
      "Data columns (total 7 columns):\n",
      " #   Column     Non-Null Count   Dtype \n",
      "---  ------     --------------   ----- \n",
      " 0   Port Name  355511 non-null  object\n",
      " 1   State      355511 non-null  object\n",
      " 2   Port Code  355511 non-null  int64 \n",
      " 3   Border     355511 non-null  object\n",
      " 4   Date       355511 non-null  object\n",
      " 5   Measure    355511 non-null  object\n",
      " 6   Value      355511 non-null  int64 \n",
      "dtypes: int64(2), object(5)\n",
      "memory usage: 19.0+ MB\n"
     ]
    }
   ],
   "source": [
    "df.info()"
   ]
  },
  {
   "cell_type": "code",
   "execution_count": 6,
   "metadata": {},
   "outputs": [
    {
     "data": {
      "text/plain": [
       "Index(['Port Name', 'State', 'Port Code', 'Border', 'Date', 'Measure',\n",
       "       'Value'],\n",
       "      dtype='object')"
      ]
     },
     "execution_count": 6,
     "metadata": {},
     "output_type": "execute_result"
    }
   ],
   "source": [
    "df.keys()"
   ]
  },
  {
   "cell_type": "code",
   "execution_count": 7,
   "metadata": {},
   "outputs": [
    {
     "data": {
      "text/plain": [
       "array(['US-Canada Border', 'US-Mexico Border'], dtype=object)"
      ]
     },
     "execution_count": 7,
     "metadata": {},
     "output_type": "execute_result"
    }
   ],
   "source": [
    "df[\"Border\"].unique()"
   ]
  },
  {
   "cell_type": "code",
   "execution_count": 8,
   "metadata": {},
   "outputs": [
    {
     "data": {
      "text/plain": [
       "array(['Alcan', 'Alexandria Bay', 'Algonac', 'Ambrose', 'Andrade',\n",
       "       'Antler', 'Baudette', 'Beecher Falls', 'Blaine', 'Boquillas',\n",
       "       'Boundary', 'Bridgewater', 'Brownsville', 'Buffalo-Niagara Falls',\n",
       "       'Calais', 'Calexico', 'Calexico East', 'Carbury',\n",
       "       'Champlain-Rouses Point', 'Columbus', 'Cross Border Xpress',\n",
       "       'Dalton Cache', 'Danville', 'Del Bonita', 'Del Rio', 'Derby Line',\n",
       "       'Detroit', 'Douglas', 'Dunseith', 'Eagle Pass', 'Eastport',\n",
       "       'El Paso', 'Ferry', 'Grand Portage', 'Fort Fairfield', 'Fort Kent',\n",
       "       'Fortuna', 'Frontier', 'Hannah', 'Hansboro', 'Hidalgo',\n",
       "       'Highgate Springs-Alburg', 'Houlton', 'International Falls-Ranier',\n",
       "       'Jackman', 'Lancaster', 'Laredo', 'Laurier', 'Limestone',\n",
       "       'Lukeville', 'Lynden', 'Madawaska', 'Maida', 'Massena',\n",
       "       'Metaline Falls', 'Morgan', 'Naco', 'Neche', 'Nighthawk',\n",
       "       'Nogales', 'Noonan', 'Northgate', 'Norton', 'Ogdensburg', 'Opheim',\n",
       "       'Oroville', 'Otay Mesa', 'Pembina', 'Piegan', 'Pinecreek',\n",
       "       'Point Roberts', 'Port Angeles', 'Port Huron', 'Portal',\n",
       "       'Porthill', 'Presidio', 'Progreso', 'Raymond', 'Richford',\n",
       "       'Rio Grande City', 'Roma', 'Roosville', 'Roseau', 'San Luis',\n",
       "       'San Ysidro', 'Santa Teresa', 'Sarles', 'Sasabe',\n",
       "       'Sault Sainte Marie', 'Scobey', 'Sherwood', 'Skagway', 'St. John',\n",
       "       'Sumas', 'Sweetgrass', 'Tecate', 'Tornillo-Fabens', 'Trout River',\n",
       "       'Turner', 'Van Buren', 'Vanceboro', 'Walhalla', 'Warroad',\n",
       "       'Westhope', 'Whitlash', 'Wildhorse', 'Willow Creek', 'Anacortes',\n",
       "       'Friday Harbor', 'Ketchikan', 'Cape Vincent', 'Toledo-Sandusky',\n",
       "       'Portland', 'Whitetail', 'Bar Harbor', 'Noyes'], dtype=object)"
      ]
     },
     "execution_count": 8,
     "metadata": {},
     "output_type": "execute_result"
    }
   ],
   "source": [
    "df[\"Port Name\"].unique()"
   ]
  },
  {
   "cell_type": "code",
   "execution_count": 9,
   "metadata": {},
   "outputs": [
    {
     "data": {
      "text/plain": [
       "28447.581399731655"
      ]
     },
     "execution_count": 9,
     "metadata": {},
     "output_type": "execute_result"
    }
   ],
   "source": [
    "df[\"Value\"].mean()"
   ]
  },
  {
   "cell_type": "code",
   "execution_count": 10,
   "metadata": {},
   "outputs": [
    {
     "data": {
      "text/plain": [
       "Int64Index([278268, 287103, 279814, 277257, 289050], dtype='int64')"
      ]
     },
     "execution_count": 10,
     "metadata": {},
     "output_type": "execute_result"
    }
   ],
   "source": [
    "biggest_five_value = df[\"Value\"].nlargest(n=5)\n",
    "biggest_five_value.index"
   ]
  },
  {
   "cell_type": "code",
   "execution_count": 11,
   "metadata": {},
   "outputs": [
    {
     "data": {
      "text/html": [
       "<div>\n",
       "<style scoped>\n",
       "    .dataframe tbody tr th:only-of-type {\n",
       "        vertical-align: middle;\n",
       "    }\n",
       "\n",
       "    .dataframe tbody tr th {\n",
       "        vertical-align: top;\n",
       "    }\n",
       "\n",
       "    .dataframe thead th {\n",
       "        text-align: right;\n",
       "    }\n",
       "</style>\n",
       "<table border=\"1\" class=\"dataframe\">\n",
       "  <thead>\n",
       "    <tr style=\"text-align: right;\">\n",
       "      <th></th>\n",
       "      <th>Port Name</th>\n",
       "      <th>State</th>\n",
       "      <th>Port Code</th>\n",
       "      <th>Border</th>\n",
       "      <th>Date</th>\n",
       "      <th>Measure</th>\n",
       "      <th>Value</th>\n",
       "    </tr>\n",
       "  </thead>\n",
       "  <tbody>\n",
       "    <tr>\n",
       "      <th>278268</th>\n",
       "      <td>El Paso</td>\n",
       "      <td>TX</td>\n",
       "      <td>2402</td>\n",
       "      <td>US-Mexico Border</td>\n",
       "      <td>3/1/2001 00:00</td>\n",
       "      <td>Personal Vehicle Passengers</td>\n",
       "      <td>4447374</td>\n",
       "    </tr>\n",
       "    <tr>\n",
       "      <th>287103</th>\n",
       "      <td>El Paso</td>\n",
       "      <td>TX</td>\n",
       "      <td>2402</td>\n",
       "      <td>US-Mexico Border</td>\n",
       "      <td>8/1/2000 00:00</td>\n",
       "      <td>Personal Vehicle Passengers</td>\n",
       "      <td>4291774</td>\n",
       "    </tr>\n",
       "    <tr>\n",
       "      <th>279814</th>\n",
       "      <td>El Paso</td>\n",
       "      <td>TX</td>\n",
       "      <td>2402</td>\n",
       "      <td>US-Mexico Border</td>\n",
       "      <td>2/1/2001 00:00</td>\n",
       "      <td>Personal Vehicle Passengers</td>\n",
       "      <td>4281175</td>\n",
       "    </tr>\n",
       "    <tr>\n",
       "      <th>277257</th>\n",
       "      <td>El Paso</td>\n",
       "      <td>TX</td>\n",
       "      <td>2402</td>\n",
       "      <td>US-Mexico Border</td>\n",
       "      <td>4/1/2001 00:00</td>\n",
       "      <td>Personal Vehicle Passengers</td>\n",
       "      <td>4252128</td>\n",
       "    </tr>\n",
       "    <tr>\n",
       "      <th>289050</th>\n",
       "      <td>El Paso</td>\n",
       "      <td>TX</td>\n",
       "      <td>2402</td>\n",
       "      <td>US-Mexico Border</td>\n",
       "      <td>6/1/2000 00:00</td>\n",
       "      <td>Personal Vehicle Passengers</td>\n",
       "      <td>4235244</td>\n",
       "    </tr>\n",
       "  </tbody>\n",
       "</table>\n",
       "</div>"
      ],
      "text/plain": [
       "       Port Name State  Port Code            Border            Date  \\\n",
       "278268   El Paso    TX       2402  US-Mexico Border  3/1/2001 00:00   \n",
       "287103   El Paso    TX       2402  US-Mexico Border  8/1/2000 00:00   \n",
       "279814   El Paso    TX       2402  US-Mexico Border  2/1/2001 00:00   \n",
       "277257   El Paso    TX       2402  US-Mexico Border  4/1/2001 00:00   \n",
       "289050   El Paso    TX       2402  US-Mexico Border  6/1/2000 00:00   \n",
       "\n",
       "                            Measure    Value  \n",
       "278268  Personal Vehicle Passengers  4447374  \n",
       "287103  Personal Vehicle Passengers  4291774  \n",
       "279814  Personal Vehicle Passengers  4281175  \n",
       "277257  Personal Vehicle Passengers  4252128  \n",
       "289050  Personal Vehicle Passengers  4235244  "
      ]
     },
     "execution_count": 11,
     "metadata": {},
     "output_type": "execute_result"
    }
   ],
   "source": [
    "df.loc[biggest_five_value.index]"
   ]
  },
  {
   "cell_type": "code",
   "execution_count": 12,
   "metadata": {},
   "outputs": [],
   "source": [
    "us_mexico_border = df[df[\"Border\"]==\"US-Mexico Border\"]"
   ]
  },
  {
   "cell_type": "code",
   "execution_count": 13,
   "metadata": {},
   "outputs": [
    {
     "data": {
      "text/html": [
       "<div>\n",
       "<style scoped>\n",
       "    .dataframe tbody tr th:only-of-type {\n",
       "        vertical-align: middle;\n",
       "    }\n",
       "\n",
       "    .dataframe tbody tr th {\n",
       "        vertical-align: top;\n",
       "    }\n",
       "\n",
       "    .dataframe thead th {\n",
       "        text-align: right;\n",
       "    }\n",
       "</style>\n",
       "<table border=\"1\" class=\"dataframe\">\n",
       "  <thead>\n",
       "    <tr style=\"text-align: right;\">\n",
       "      <th></th>\n",
       "      <th>Port Name</th>\n",
       "      <th>State</th>\n",
       "      <th>Port Code</th>\n",
       "      <th>Border</th>\n",
       "      <th>Date</th>\n",
       "      <th>Measure</th>\n",
       "      <th>Value</th>\n",
       "    </tr>\n",
       "  </thead>\n",
       "  <tbody>\n",
       "    <tr>\n",
       "      <th>18</th>\n",
       "      <td>Andrade</td>\n",
       "      <td>CA</td>\n",
       "      <td>2502</td>\n",
       "      <td>US-Mexico Border</td>\n",
       "      <td>2/1/2020 00:00</td>\n",
       "      <td>Pedestrians</td>\n",
       "      <td>115655</td>\n",
       "    </tr>\n",
       "    <tr>\n",
       "      <th>19</th>\n",
       "      <td>Andrade</td>\n",
       "      <td>CA</td>\n",
       "      <td>2502</td>\n",
       "      <td>US-Mexico Border</td>\n",
       "      <td>2/1/2020 00:00</td>\n",
       "      <td>Personal Vehicle Passengers</td>\n",
       "      <td>82972</td>\n",
       "    </tr>\n",
       "    <tr>\n",
       "      <th>20</th>\n",
       "      <td>Andrade</td>\n",
       "      <td>CA</td>\n",
       "      <td>2502</td>\n",
       "      <td>US-Mexico Border</td>\n",
       "      <td>2/1/2020 00:00</td>\n",
       "      <td>Personal Vehicles</td>\n",
       "      <td>44277</td>\n",
       "    </tr>\n",
       "    <tr>\n",
       "      <th>49</th>\n",
       "      <td>Boquillas</td>\n",
       "      <td>TX</td>\n",
       "      <td>2410</td>\n",
       "      <td>US-Mexico Border</td>\n",
       "      <td>2/1/2020 00:00</td>\n",
       "      <td>Pedestrians</td>\n",
       "      <td>3036</td>\n",
       "    </tr>\n",
       "    <tr>\n",
       "      <th>66</th>\n",
       "      <td>Brownsville</td>\n",
       "      <td>TX</td>\n",
       "      <td>2301</td>\n",
       "      <td>US-Mexico Border</td>\n",
       "      <td>2/1/2020 00:00</td>\n",
       "      <td>Bus Passengers</td>\n",
       "      <td>3072</td>\n",
       "    </tr>\n",
       "  </tbody>\n",
       "</table>\n",
       "</div>"
      ],
      "text/plain": [
       "      Port Name State  Port Code            Border            Date  \\\n",
       "18      Andrade    CA       2502  US-Mexico Border  2/1/2020 00:00   \n",
       "19      Andrade    CA       2502  US-Mexico Border  2/1/2020 00:00   \n",
       "20      Andrade    CA       2502  US-Mexico Border  2/1/2020 00:00   \n",
       "49    Boquillas    TX       2410  US-Mexico Border  2/1/2020 00:00   \n",
       "66  Brownsville    TX       2301  US-Mexico Border  2/1/2020 00:00   \n",
       "\n",
       "                        Measure   Value  \n",
       "18                  Pedestrians  115655  \n",
       "19  Personal Vehicle Passengers   82972  \n",
       "20            Personal Vehicles   44277  \n",
       "49                  Pedestrians    3036  \n",
       "66               Bus Passengers    3072  "
      ]
     },
     "execution_count": 13,
     "metadata": {},
     "output_type": "execute_result"
    }
   ],
   "source": [
    "us_mexico_border.head()"
   ]
  },
  {
   "cell_type": "code",
   "execution_count": 14,
   "metadata": {},
   "outputs": [],
   "source": [
    "us_canada_border =df[df[\"Border\"]==\"US-Canada Border\"]"
   ]
  },
  {
   "cell_type": "code",
   "execution_count": 15,
   "metadata": {},
   "outputs": [
    {
     "data": {
      "text/html": [
       "<div>\n",
       "<style scoped>\n",
       "    .dataframe tbody tr th:only-of-type {\n",
       "        vertical-align: middle;\n",
       "    }\n",
       "\n",
       "    .dataframe tbody tr th {\n",
       "        vertical-align: top;\n",
       "    }\n",
       "\n",
       "    .dataframe thead th {\n",
       "        text-align: right;\n",
       "    }\n",
       "</style>\n",
       "<table border=\"1\" class=\"dataframe\">\n",
       "  <thead>\n",
       "    <tr style=\"text-align: right;\">\n",
       "      <th></th>\n",
       "      <th>Port Name</th>\n",
       "      <th>State</th>\n",
       "      <th>Port Code</th>\n",
       "      <th>Border</th>\n",
       "      <th>Date</th>\n",
       "      <th>Measure</th>\n",
       "      <th>Value</th>\n",
       "    </tr>\n",
       "  </thead>\n",
       "  <tbody>\n",
       "    <tr>\n",
       "      <th>0</th>\n",
       "      <td>Alcan</td>\n",
       "      <td>AK</td>\n",
       "      <td>3104</td>\n",
       "      <td>US-Canada Border</td>\n",
       "      <td>2/1/2020 00:00</td>\n",
       "      <td>Personal Vehicle Passengers</td>\n",
       "      <td>1414</td>\n",
       "    </tr>\n",
       "    <tr>\n",
       "      <th>1</th>\n",
       "      <td>Alcan</td>\n",
       "      <td>AK</td>\n",
       "      <td>3104</td>\n",
       "      <td>US-Canada Border</td>\n",
       "      <td>2/1/2020 00:00</td>\n",
       "      <td>Personal Vehicles</td>\n",
       "      <td>763</td>\n",
       "    </tr>\n",
       "    <tr>\n",
       "      <th>2</th>\n",
       "      <td>Alcan</td>\n",
       "      <td>AK</td>\n",
       "      <td>3104</td>\n",
       "      <td>US-Canada Border</td>\n",
       "      <td>2/1/2020 00:00</td>\n",
       "      <td>Truck Containers Empty</td>\n",
       "      <td>412</td>\n",
       "    </tr>\n",
       "    <tr>\n",
       "      <th>3</th>\n",
       "      <td>Alcan</td>\n",
       "      <td>AK</td>\n",
       "      <td>3104</td>\n",
       "      <td>US-Canada Border</td>\n",
       "      <td>2/1/2020 00:00</td>\n",
       "      <td>Truck Containers Full</td>\n",
       "      <td>122</td>\n",
       "    </tr>\n",
       "    <tr>\n",
       "      <th>4</th>\n",
       "      <td>Alcan</td>\n",
       "      <td>AK</td>\n",
       "      <td>3104</td>\n",
       "      <td>US-Canada Border</td>\n",
       "      <td>2/1/2020 00:00</td>\n",
       "      <td>Trucks</td>\n",
       "      <td>545</td>\n",
       "    </tr>\n",
       "  </tbody>\n",
       "</table>\n",
       "</div>"
      ],
      "text/plain": [
       "  Port Name State  Port Code            Border            Date  \\\n",
       "0     Alcan    AK       3104  US-Canada Border  2/1/2020 00:00   \n",
       "1     Alcan    AK       3104  US-Canada Border  2/1/2020 00:00   \n",
       "2     Alcan    AK       3104  US-Canada Border  2/1/2020 00:00   \n",
       "3     Alcan    AK       3104  US-Canada Border  2/1/2020 00:00   \n",
       "4     Alcan    AK       3104  US-Canada Border  2/1/2020 00:00   \n",
       "\n",
       "                       Measure  Value  \n",
       "0  Personal Vehicle Passengers   1414  \n",
       "1            Personal Vehicles    763  \n",
       "2       Truck Containers Empty    412  \n",
       "3        Truck Containers Full    122  \n",
       "4                       Trucks    545  "
      ]
     },
     "execution_count": 15,
     "metadata": {},
     "output_type": "execute_result"
    }
   ],
   "source": [
    "us_canada_border.head()"
   ]
  },
  {
   "cell_type": "code",
   "execution_count": 16,
   "metadata": {},
   "outputs": [
    {
     "data": {
      "text/plain": [
       "[Text(0, 0, 'Pedestrians'),\n",
       " Text(0, 0, 'Personal Vehicle Passengers'),\n",
       " Text(0, 0, 'Personal Vehicles'),\n",
       " Text(0, 0, 'Bus Passengers'),\n",
       " Text(0, 0, 'Buses'),\n",
       " Text(0, 0, 'Rail Containers Empty'),\n",
       " Text(0, 0, 'Rail Containers Full'),\n",
       " Text(0, 0, 'Trains'),\n",
       " Text(0, 0, 'Truck Containers Empty'),\n",
       " Text(0, 0, 'Truck Containers Full'),\n",
       " Text(0, 0, 'Trucks'),\n",
       " Text(0, 0, 'Train Passengers')]"
      ]
     },
     "execution_count": 16,
     "metadata": {},
     "output_type": "execute_result"
    },
    {
     "data": {
      "image/png": "[encoded data removed]",
      "text/plain": [
       "<Figure size 432x288 with 1 Axes>"
      ]
     },
     "metadata": {
      "needs_background": "light"
     },
     "output_type": "display_data"
    }
   ],
   "source": [
    "m = sns.countplot(x='Measure',hue=\"State\", data=us_mexico_border)\n",
    "m.set_xticklabels(m.get_xticklabels(),rotation=90)"
   ]
  },
  {
   "cell_type": "code",
   "execution_count": 17,
   "metadata": {},
   "outputs": [
    {
     "data": {
      "text/plain": [
       "[Text(0, 0, 'Personal Vehicle Passengers'),\n",
       " Text(0, 0, 'Personal Vehicles'),\n",
       " Text(0, 0, 'Truck Containers Empty'),\n",
       " Text(0, 0, 'Truck Containers Full'),\n",
       " Text(0, 0, 'Trucks'),\n",
       " Text(0, 0, 'Bus Passengers'),\n",
       " Text(0, 0, 'Buses'),\n",
       " Text(0, 0, 'Pedestrians'),\n",
       " Text(0, 0, 'Rail Containers Empty'),\n",
       " Text(0, 0, 'Rail Containers Full'),\n",
       " Text(0, 0, 'Train Passengers'),\n",
       " Text(0, 0, 'Trains')]"
      ]
     },
     "execution_count": 17,
     "metadata": {},
     "output_type": "execute_result"
    },
    {
     "data": {
      "image/png": "[encoded data removed]",
      "text/plain": [
       "<Figure size 432x288 with 1 Axes>"
      ]
     },
     "metadata": {
      "needs_background": "light"
     },
     "output_type": "display_data"
    }
   ],
   "source": [
    "c = sns.countplot(x='Measure',hue=\"State\", data=us_canada_border)\n",
    "c.set_xticklabels(c.get_xticklabels(),rotation=90)"
   ]
  },
  {
   "cell_type": "code",
   "execution_count": 18,
   "metadata": {},
   "outputs": [
    {
     "name": "stderr",
     "output_type": "stream",
     "text": [
      "/opt/conda/lib/python3.7/site-packages/ipykernel_launcher.py:1: SettingWithCopyWarning: \n",
      "A value is trying to be set on a copy of a slice from a DataFrame.\n",
      "Try using .loc[row_indexer,col_indexer] = value instead\n",
      "\n",
      "See the caveats in the documentation: https://pandas.pydata.org/pandas-docs/stable/user_guide/indexing.html#returning-a-view-versus-a-copy\n",
      "  \"\"\"Entry point for launching an IPython kernel.\n"
     ]
    },
    {
     "data": {
      "text/plain": [
       "18    2020\n",
       "19    2020\n",
       "20    2020\n",
       "49    2020\n",
       "66    2020\n",
       "Name: date, dtype: int64"
      ]
     },
     "execution_count": 18,
     "metadata": {},
     "output_type": "execute_result"
    }
   ],
   "source": [
    "us_mexico_border[\"date\"] = us_mexico_border[\"Date\"].astype('datetime64[ns]')\n",
    "us_mexico_border.date.dt.year.head()"
   ]
  },
  {
   "cell_type": "code",
   "execution_count": 19,
   "metadata": {},
   "outputs": [
    {
     "data": {
      "text/plain": [
       "18    2\n",
       "19    2\n",
       "20    2\n",
       "49    2\n",
       "66    2\n",
       "Name: date, dtype: int64"
      ]
     },
     "execution_count": 19,
     "metadata": {},
     "output_type": "execute_result"
    }
   ],
   "source": [
    "us_mexico_border.date.dt.month.head()"
   ]
  },
  {
   "cell_type": "code",
   "execution_count": 20,
   "metadata": {},
   "outputs": [
    {
     "data": {
      "text/plain": [
       "<matplotlib.axes._subplots.AxesSubplot at 0x7f5d8bf20890>"
      ]
     },
     "execution_count": 20,
     "metadata": {},
     "output_type": "execute_result"
    },
    {
     "data": {
      "image/png": "[encoded data removed]",
      "text/plain": [
       "<Figure size 432x288 with 1 Axes>"
      ]
     },
     "metadata": {
      "needs_background": "light"
     },
     "output_type": "display_data"
    }
   ],
   "source": [
    "df_group_by_year = us_mexico_border.groupby(us_mexico_border.date.dt.year).mean()[\"Value\"]\n",
    "df_group_by_year.plot.bar()"
   ]
  },
  {
   "cell_type": "code",
   "execution_count": 21,
   "metadata": {},
   "outputs": [
    {
     "data": {
      "text/plain": [
       "<matplotlib.legend.Legend at 0x7f5d8be4e810>"
      ]
     },
     "execution_count": 21,
     "metadata": {},
     "output_type": "execute_result"
    },
    {
     "data": {
      "image/png": "[encoded data removed]",
      "text/plain": [
       "<Figure size 432x288 with 1 Axes>"
      ]
     },
     "metadata": {
      "needs_background": "light"
     },
     "output_type": "display_data"
    }
   ],
   "source": [
    "df_group_by_type_m = us_mexico_border.groupby(us_mexico_border.Measure).mean()[\"Value\"]\n",
    "df_group_by_type_c = us_canada_border.groupby(us_canada_border.Measure).mean()[\"Value\"]\n",
    "df_group_by_type_m.plot.bar(color=\"r\").legend([\"mexico\",\"canada\"])\n",
    "df_group_by_type_c.plot.bar(color=\"b\").legend([\"mexico\",\"canada\"])\n"
   ]
  },
  {
   "cell_type": "code",
   "execution_count": 22,
   "metadata": {},
   "outputs": [
    {
     "ename": "NameError",
     "evalue": "name 'df_group_by_Port_Name' is not defined",
     "output_type": "error",
     "traceback": [
      "\u001b[0;31m---------------------------------------------------------------------------\u001b[0m",
      "\u001b[0;31mNameError\u001b[0m                                 Traceback (most recent call last)",
      "\u001b[0;32m<ipython-input-22-287def165795>\u001b[0m in \u001b[0;36m<module>\u001b[0;34m\u001b[0m\n\u001b[1;32m      1\u001b[0m \u001b[0mdf_group_by_Port_Name_m\u001b[0m \u001b[0;34m=\u001b[0m \u001b[0mus_mexico_border\u001b[0m\u001b[0;34m.\u001b[0m\u001b[0mgroupby\u001b[0m\u001b[0;34m(\u001b[0m\u001b[0mus_mexico_border\u001b[0m\u001b[0;34m[\u001b[0m\u001b[0;34m\"Port Name\"\u001b[0m\u001b[0;34m]\u001b[0m\u001b[0;34m)\u001b[0m\u001b[0;34m.\u001b[0m\u001b[0mmean\u001b[0m\u001b[0;34m(\u001b[0m\u001b[0;34m)\u001b[0m\u001b[0;34m[\u001b[0m\u001b[0;34m\"Value\"\u001b[0m\u001b[0;34m]\u001b[0m\u001b[0;34m\u001b[0m\u001b[0;34m\u001b[0m\u001b[0m\n\u001b[1;32m      2\u001b[0m \u001b[0;34m\u001b[0m\u001b[0m\n\u001b[0;32m----> 3\u001b[0;31m \u001b[0mdf_group_by_Port_Name\u001b[0m\u001b[0;34m.\u001b[0m\u001b[0mplot\u001b[0m\u001b[0;34m.\u001b[0m\u001b[0mbar\u001b[0m\u001b[0;34m(\u001b[0m\u001b[0;34m)\u001b[0m\u001b[0;34m\u001b[0m\u001b[0;34m\u001b[0m\u001b[0m\n\u001b[0m",
      "\u001b[0;31mNameError\u001b[0m: name 'df_group_by_Port_Name' is not defined"
     ]
    }
   ],
   "source": [
    "df_group_by_Port_Name_m = us_mexico_border.groupby(us_mexico_border[\"Port Name\"]).mean()[\"Value\"]\n",
    "\n",
    "df_group_by_Port_Name.plot.bar()"
   ]
  },
  {
   "cell_type": "code",
   "execution_count": 23,
   "metadata": {},
   "outputs": [
    {
     "data": {
      "text/plain": [
       "<matplotlib.axes._subplots.AxesSubplot at 0x7f5d8bd23d90>"
      ]
     },
     "execution_count": 23,
     "metadata": {},
     "output_type": "execute_result"
    },
    {
     "data": {
      "image/png": "[encoded data removed]",
      "text/plain": [
       "<Figure size 432x288 with 1 Axes>"
      ]
     },
     "metadata": {
      "needs_background": "light"
     },
     "output_type": "display_data"
    }
   ],
   "source": [
    "fig,axes = plt.subplots()\n",
    "df_group_by_Port_Name_c = us_canada_border.groupby(us_canada_border[\"Port Name\"]).mean()[\"Value\"]\n",
    "\n",
    "df_group_by_Port_Name_c.plot.bar(fig=0.001)\n"
   ]
  },
  {
   "cell_type": "code",
   "execution_count": 24,
   "metadata": {},
   "outputs": [
    {
     "data": {
      "text/plain": [
       "89"
      ]
     },
     "execution_count": 24,
     "metadata": {},
     "output_type": "execute_result"
    }
   ],
   "source": [
    "len(df_group_by_Port_Name_c.index)\n"
   ]
  },
  {
   "cell_type": "code",
   "execution_count": null,
   "metadata": {},
   "outputs": [],
   "source": []
  },
  {
   "cell_type": "code",
   "execution_count": null,
   "metadata": {},
   "outputs": [],
   "source": []
  },
  {
   "cell_type": "code",
   "execution_count": null,
   "metadata": {},
   "outputs": [],
   "source": []
  }
 ],
 "metadata": {
  "kernelspec": {
   "display_name": "Python 3",
   "language": "python",
   "name": "python3"
  },
  "language_info": {
   "codemirror_mode": {
    "name": "ipython",
    "version": 3
   },
   "file_extension": ".py",
   "mimetype": "text/x-python",
   "name": "python",
   "nbconvert_exporter": "python",
   "pygments_lexer": "ipython3",
   "version": "3.7.6"
  }
 },
 "nbformat": 4,
 "nbformat_minor": 4
}
